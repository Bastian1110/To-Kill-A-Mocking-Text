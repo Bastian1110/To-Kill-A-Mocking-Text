{
 "cells": [
  {
   "cell_type": "code",
   "execution_count": 33,
   "metadata": {},
   "outputs": [],
   "source": [
    "from utils import read_ultimate_dataset\n",
    "all_dataset = read_ultimate_dataset(\"./datasets/ultimate-dataset\", [\"text\", \"label\", \"type\"], {\"type\" : [0,1,2,3,4]})"
   ]
  },
  {
   "cell_type": "code",
   "execution_count": 34,
   "metadata": {},
   "outputs": [],
   "source": [
    "abstracts = [t[\"text\"] for t in all_dataset]\n",
    "labels = [t[\"type\"] for t in all_dataset]"
   ]
  },
  {
   "cell_type": "code",
   "execution_count": 19,
   "metadata": {},
   "outputs": [
    {
     "data": {
      "image/png": "[encoded data removed]",
      "text/plain": [
       "<Figure size 640x480 with 1 Axes>"
      ]
     },
     "metadata": {},
     "output_type": "display_data"
    }
   ],
   "source": [
    "import matplotlib.pyplot as plt\n",
    "\n",
    "\n",
    "plt.hist(labels, bins=range(min(labels), max(labels)+2), align='left')\n",
    "plt.xlabel('Number')\n",
    "plt.ylabel('Frequency')\n",
    "plt.title('Distribution of Numbers')\n",
    "plt.show()\n"
   ]
  },
  {
   "cell_type": "code",
   "execution_count": 35,
   "metadata": {},
   "outputs": [],
   "source": [
    "from sentence_transformers import SentenceTransformer\n",
    "\n",
    "model = SentenceTransformer('all-mpnet-base-v2')"
   ]
  },
  {
   "cell_type": "code",
   "execution_count": 36,
   "metadata": {},
   "outputs": [],
   "source": [
    "embeddings = model.encode(abstracts)"
   ]
  },
  {
   "cell_type": "code",
   "execution_count": 29,
   "metadata": {},
   "outputs": [
    {
     "name": "stdout",
     "output_type": "stream",
     "text": [
      "Accuracy: 0.3181818181818182\n",
      "Classification Report:\n",
      "               precision    recall  f1-score   support\n",
      "\n",
      "           0       0.50      0.33      0.40         3\n",
      "           1       0.33      0.33      0.33         6\n",
      "           2       0.00      0.00      0.00         0\n",
      "           3       0.33      0.12      0.18         8\n",
      "           4       0.33      0.60      0.43         5\n",
      "\n",
      "    accuracy                           0.32        22\n",
      "   macro avg       0.30      0.28      0.27        22\n",
      "weighted avg       0.36      0.32      0.31        22\n",
      "\n"
     ]
    },
    {
     "name": "stderr",
     "output_type": "stream",
     "text": [
      "/Users/sebmora/miniconda3/envs/ai/lib/python3.11/site-packages/sklearn/metrics/_classification.py:1509: UndefinedMetricWarning: Recall is ill-defined and being set to 0.0 in labels with no true samples. Use `zero_division` parameter to control this behavior.\n",
      "  _warn_prf(average, modifier, f\"{metric.capitalize()} is\", len(result))\n",
      "/Users/sebmora/miniconda3/envs/ai/lib/python3.11/site-packages/sklearn/metrics/_classification.py:1509: UndefinedMetricWarning: Recall is ill-defined and being set to 0.0 in labels with no true samples. Use `zero_division` parameter to control this behavior.\n",
      "  _warn_prf(average, modifier, f\"{metric.capitalize()} is\", len(result))\n",
      "/Users/sebmora/miniconda3/envs/ai/lib/python3.11/site-packages/sklearn/metrics/_classification.py:1509: UndefinedMetricWarning: Recall is ill-defined and being set to 0.0 in labels with no true samples. Use `zero_division` parameter to control this behavior.\n",
      "  _warn_prf(average, modifier, f\"{metric.capitalize()} is\", len(result))\n"
     ]
    }
   ],
   "source": [
    "from sklearn.model_selection import train_test_split\n",
    "from sklearn.preprocessing import StandardScaler\n",
    "from sklearn.svm import SVC\n",
    "from sklearn.metrics import classification_report, accuracy_score\n",
    "import numpy as np\n",
    "\n",
    "# Assuming embeddings and labels are your dataset\n",
    "embeddings = np.array(embeddings)  # Convert list to NumPy array if not already\n",
    "labels = np.array(labels)\n",
    "\n",
    "# Step 3: Split the data into training and testing sets\n",
    "X_train, X_test, y_train, y_test = train_test_split(embeddings, labels, test_size=0.2, random_state=42)\n",
    "\n",
    "# Step 4: Standardize the features\n",
    "scaler = StandardScaler()\n",
    "X_train = scaler.fit_transform(X_train)\n",
    "X_test = scaler.transform(X_test)\n",
    "\n",
    "# Step 5: Train the SVM with a linear kernel\n",
    "svm_model = SVC(kernel='linear', random_state=42)\n",
    "svm_model.fit(X_train, y_train)\n",
    "\n",
    "# Step 6: Predict and evaluate the model\n",
    "y_pred = svm_model.predict(X_test)\n",
    "print(\"Accuracy:\", accuracy_score(y_test, y_pred))\n",
    "print(\"Classification Report:\\n\", classification_report(y_test, y_pred))\n"
   ]
  },
  {
   "cell_type": "code",
   "execution_count": 37,
   "metadata": {},
   "outputs": [
    {
     "name": "stdout",
     "output_type": "stream",
     "text": [
      "Accuracy: 0.36363636363636365\n",
      "Classification Report:\n",
      "               precision    recall  f1-score   support\n",
      "\n",
      "           0       0.00      0.00      0.00         3\n",
      "           1       0.20      0.33      0.25         6\n",
      "           3       0.40      0.25      0.31         8\n",
      "           4       0.57      0.80      0.67         5\n",
      "\n",
      "    accuracy                           0.36        22\n",
      "   macro avg       0.29      0.35      0.31        22\n",
      "weighted avg       0.33      0.36      0.33        22\n",
      "\n"
     ]
    },
    {
     "name": "stderr",
     "output_type": "stream",
     "text": [
      "/Users/sebmora/miniconda3/envs/ai/lib/python3.11/site-packages/sklearn/metrics/_classification.py:1509: UndefinedMetricWarning: Precision is ill-defined and being set to 0.0 in labels with no predicted samples. Use `zero_division` parameter to control this behavior.\n",
      "  _warn_prf(average, modifier, f\"{metric.capitalize()} is\", len(result))\n",
      "/Users/sebmora/miniconda3/envs/ai/lib/python3.11/site-packages/sklearn/metrics/_classification.py:1509: UndefinedMetricWarning: Precision is ill-defined and being set to 0.0 in labels with no predicted samples. Use `zero_division` parameter to control this behavior.\n",
      "  _warn_prf(average, modifier, f\"{metric.capitalize()} is\", len(result))\n",
      "/Users/sebmora/miniconda3/envs/ai/lib/python3.11/site-packages/sklearn/metrics/_classification.py:1509: UndefinedMetricWarning: Precision is ill-defined and being set to 0.0 in labels with no predicted samples. Use `zero_division` parameter to control this behavior.\n",
      "  _warn_prf(average, modifier, f\"{metric.capitalize()} is\", len(result))\n"
     ]
    }
   ],
   "source": [
    "from sklearn.model_selection import train_test_split\n",
    "from sklearn.ensemble import RandomForestClassifier\n",
    "from sklearn.metrics import classification_report, accuracy_score\n",
    "import numpy as np\n",
    "\n",
    "# Assuming embeddings and labels are in Python lists\n",
    "embeddings = np.array(embeddings)\n",
    "labels = np.array(labels)\n",
    "\n",
    "# Step 3: Split the data into training and testing sets\n",
    "X_train, X_test, y_train, y_test = train_test_split(embeddings, labels, test_size=0.2, random_state=42)\n",
    "\n",
    "# Step 4: Train the Random Forest classifier\n",
    "rf_model = RandomForestClassifier(n_estimators=100, random_state=42)  # You can adjust the number of trees\n",
    "rf_model.fit(X_train, y_train)\n",
    "\n",
    "# Step 5: Predict and evaluate the model\n",
    "y_pred = rf_model.predict(X_test)\n",
    "print(\"Accuracy:\", accuracy_score(y_test, y_pred))\n",
    "print(\"Classification Report:\\n\", classification_report(y_test, y_pred))\n"
   ]
  },
  {
   "cell_type": "code",
   "execution_count": 5,
   "metadata": {},
   "outputs": [],
   "source": [
    "from sklearn.model_selection import train_test_split\n",
    "\n",
    "X_train, X_test, y_train, y_test = train_test_split(embeddings, labels, test_size=0.2, random_state=42)"
   ]
  },
  {
   "cell_type": "code",
   "execution_count": 6,
   "metadata": {},
   "outputs": [],
   "source": [
    "import torch\n",
    "from torch import nn\n",
    "from torch.utils.data import DataLoader, TensorDataset\n",
    "\n",
    "# Create dataset\n",
    "train_data = TensorDataset(torch.tensor(X_train, dtype=torch.float32), torch.tensor(y_train, dtype=torch.long))\n",
    "test_data = TensorDataset(torch.tensor(X_test, dtype=torch.float32), torch.tensor(y_test, dtype=torch.long))\n",
    "\n",
    "# Data loaders\n",
    "train_loader = DataLoader(train_data, batch_size=10, shuffle=True)\n",
    "test_loader = DataLoader(test_data, batch_size=10, shuffle=False)\n",
    "\n",
    "# Neural network model\n",
    "class PlagiarismClassifier(nn.Module):\n",
    "    def __init__(self):\n",
    "        super(PlagiarismClassifier, self).__init__()\n",
    "        self.fc1 = nn.Linear(768, 128)  # MPNet-base output is 768 dimensions\n",
    "        self.fc2 = nn.Linear(128, 5)    # Output layer for 5 classes\n",
    "\n",
    "    def forward(self, x):\n",
    "        x = torch.relu(self.fc1(x))\n",
    "        x = self.fc2(x)\n",
    "        return x\n",
    "\n",
    "model = PlagiarismClassifier()\n"
   ]
  },
  {
   "cell_type": "code",
   "execution_count": 8,
   "metadata": {},
   "outputs": [
    {
     "name": "stdout",
     "output_type": "stream",
     "text": [
      "Epoch 1, Loss: 1.9827661514282227\n",
      "Epoch 2, Loss: 0.8981560468673706\n",
      "Epoch 3, Loss: 1.694929599761963\n",
      "Epoch 4, Loss: 1.119644045829773\n",
      "Epoch 5, Loss: 0.777195394039154\n",
      "Epoch 6, Loss: 0.8808457851409912\n",
      "Epoch 7, Loss: 0.5776621103286743\n",
      "Epoch 8, Loss: 0.6376609206199646\n",
      "Epoch 9, Loss: 1.063429355621338\n",
      "Epoch 10, Loss: 0.5651378035545349\n",
      "Epoch 11, Loss: 0.7469958066940308\n",
      "Epoch 12, Loss: 0.6622048020362854\n",
      "Epoch 13, Loss: 0.6166098117828369\n",
      "Epoch 14, Loss: 1.4902065992355347\n",
      "Epoch 15, Loss: 0.9208400249481201\n",
      "Epoch 16, Loss: 0.6094833612442017\n",
      "Epoch 17, Loss: 0.21876153349876404\n",
      "Epoch 18, Loss: 0.5490304231643677\n",
      "Epoch 19, Loss: 0.43068990111351013\n",
      "Epoch 20, Loss: 0.46315062046051025\n",
      "Epoch 21, Loss: 0.33998414874076843\n",
      "Epoch 22, Loss: 0.5740800499916077\n",
      "Epoch 23, Loss: 0.15140476822853088\n",
      "Epoch 24, Loss: 0.16565342247486115\n",
      "Epoch 25, Loss: 0.17809803783893585\n",
      "Epoch 26, Loss: 0.2244567722082138\n",
      "Epoch 27, Loss: 0.2591806650161743\n",
      "Epoch 28, Loss: 0.20760250091552734\n",
      "Epoch 29, Loss: 0.21771065890789032\n",
      "Epoch 30, Loss: 0.3534879684448242\n",
      "Epoch 31, Loss: 0.3334474563598633\n",
      "Epoch 32, Loss: 0.0946386381983757\n",
      "Epoch 33, Loss: 0.213932067155838\n",
      "Epoch 34, Loss: 0.07072988152503967\n",
      "Epoch 35, Loss: 0.2459031641483307\n",
      "Epoch 36, Loss: 0.0887591764330864\n",
      "Epoch 37, Loss: 0.25511741638183594\n",
      "Epoch 38, Loss: 0.1607908308506012\n",
      "Epoch 39, Loss: 0.25839099287986755\n",
      "Epoch 40, Loss: 0.16479846835136414\n",
      "Epoch 41, Loss: 0.35269755125045776\n",
      "Epoch 42, Loss: 0.1279374212026596\n",
      "Epoch 43, Loss: 0.09753894060850143\n",
      "Epoch 44, Loss: 0.03985845297574997\n",
      "Epoch 45, Loss: 0.10016241669654846\n",
      "Epoch 46, Loss: 0.10682371258735657\n",
      "Epoch 47, Loss: 0.2097657322883606\n",
      "Epoch 48, Loss: 0.04029996693134308\n",
      "Epoch 49, Loss: 0.07132716476917267\n",
      "Epoch 50, Loss: 0.09740791469812393\n",
      "Epoch 51, Loss: 0.04204715043306351\n",
      "Epoch 52, Loss: 0.10204006731510162\n",
      "Epoch 53, Loss: 0.03564325347542763\n",
      "Epoch 54, Loss: 0.07179189473390579\n",
      "Epoch 55, Loss: 0.04487457498908043\n",
      "Epoch 56, Loss: 0.040254145860672\n",
      "Epoch 57, Loss: 0.0396428219974041\n",
      "Epoch 58, Loss: 0.03638621047139168\n",
      "Epoch 59, Loss: 0.06529361754655838\n",
      "Epoch 60, Loss: 0.026141267269849777\n",
      "Epoch 61, Loss: 0.03236643970012665\n",
      "Epoch 62, Loss: 0.24477848410606384\n",
      "Epoch 63, Loss: 0.021891700103878975\n",
      "Epoch 64, Loss: 0.013574844226241112\n",
      "Epoch 65, Loss: 0.03650417551398277\n",
      "Epoch 66, Loss: 0.04713975638151169\n",
      "Epoch 67, Loss: 0.024426985532045364\n",
      "Epoch 68, Loss: 0.07362338900566101\n",
      "Epoch 69, Loss: 0.027474062517285347\n",
      "Epoch 70, Loss: 0.02168196067214012\n",
      "Epoch 71, Loss: 0.03466849774122238\n",
      "Epoch 72, Loss: 0.02499690093100071\n",
      "Epoch 73, Loss: 0.0176011323928833\n",
      "Epoch 74, Loss: 0.024040399119257927\n",
      "Epoch 75, Loss: 0.018279464915394783\n",
      "Epoch 76, Loss: 0.025871112942695618\n",
      "Epoch 77, Loss: 0.033188190311193466\n",
      "Epoch 78, Loss: 0.0266861654818058\n",
      "Epoch 79, Loss: 0.039863985031843185\n",
      "Epoch 80, Loss: 0.0230725035071373\n",
      "Epoch 81, Loss: 0.017451580613851547\n",
      "Epoch 82, Loss: 0.20407429337501526\n",
      "Epoch 83, Loss: 0.0230183657258749\n",
      "Epoch 84, Loss: 0.013874026946723461\n",
      "Epoch 85, Loss: 0.014788934029638767\n",
      "Epoch 86, Loss: 0.016629530116915703\n",
      "Epoch 87, Loss: 0.015634000301361084\n",
      "Epoch 88, Loss: 0.20800969004631042\n",
      "Epoch 89, Loss: 0.351814329624176\n",
      "Epoch 90, Loss: 0.01836000569164753\n",
      "Epoch 91, Loss: 0.021042540669441223\n",
      "Epoch 92, Loss: 0.01307410467416048\n",
      "Epoch 93, Loss: 0.021985864266753197\n",
      "Epoch 94, Loss: 0.010548805817961693\n",
      "Epoch 95, Loss: 0.01227300800383091\n",
      "Epoch 96, Loss: 0.013383784331381321\n",
      "Epoch 97, Loss: 0.019559580832719803\n",
      "Epoch 98, Loss: 0.017335258424282074\n",
      "Epoch 99, Loss: 0.02806055173277855\n",
      "Epoch 100, Loss: 0.011828235350549221\n"
     ]
    }
   ],
   "source": [
    "criterion = nn.CrossEntropyLoss()\n",
    "optimizer = torch.optim.Adam(model.parameters(), lr=0.001)\n",
    "\n",
    "# Training loop\n",
    "for epoch in range(100):  # run for more epochs depending on convergence\n",
    "    for inputs, labels in train_loader:\n",
    "        optimizer.zero_grad()\n",
    "        outputs = model(inputs)\n",
    "        loss = criterion(outputs, labels)\n",
    "        loss.backward()\n",
    "        optimizer.step()\n",
    "    print(f'Epoch {epoch+1}, Loss: {loss.item()}')\n"
   ]
  },
  {
   "cell_type": "code",
   "execution_count": 9,
   "metadata": {},
   "outputs": [
    {
     "name": "stdout",
     "output_type": "stream",
     "text": [
      "Accuracy: 36.36363636363637%\n"
     ]
    }
   ],
   "source": [
    "model.eval()  # set the model to evaluation mode\n",
    "with torch.no_grad():\n",
    "    correct = 0\n",
    "    total = 0\n",
    "    for inputs, labels in test_loader:\n",
    "        outputs = model(inputs)\n",
    "        _, predicted = torch.max(outputs.data, 1)\n",
    "        total += labels.size(0)\n",
    "        correct += (predicted == labels).sum().item()\n",
    "\n",
    "print(f'Accuracy: {100 * correct / total}%')\n"
   ]
  }
 ],
 "metadata": {
  "kernelspec": {
   "display_name": "ai",
   "language": "python",
   "name": "python3"
  },
  "language_info": {
   "codemirror_mode": {
    "name": "ipython",
    "version": 3
   },
   "file_extension": ".py",
   "mimetype": "text/x-python",
   "name": "python",
   "nbconvert_exporter": "python",
   "pygments_lexer": "ipython3",
   "version": "3.11.5"
  }
 },
 "nbformat": 4,
 "nbformat_minor": 2
}
